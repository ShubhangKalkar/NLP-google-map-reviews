{
 "cells": [
  {
   "cell_type": "markdown",
   "metadata": {},
   "source": [
    "## Practical 4 : Implementing word embedding using word2vec/FastText"
   ]
  },
  {
   "cell_type": "code",
   "execution_count": 1,
   "metadata": {
    "colab": {},
    "colab_type": "code",
    "id": "WXc__mkeq0eY"
   },
   "outputs": [],
   "source": [
    "from gensim.models import Word2Vec\n",
    "from gensim.models import FastText\n",
    "sentences = [['this', 'is', 'the', 'good', 'machine', 'learning', 'book'],\n",
    "            ['this', 'is',  'another', 'machine', 'learning', 'book'],\n",
    "            ['one', 'more', 'new', 'book'],\n",
    "         \n",
    "          ['this', 'is', 'about', 'machine', 'learning', 'post'],\n",
    "          ['orange', 'juice', 'is', 'the', 'liquid', 'extract', 'of', 'fruit'],\n",
    "          ['orange', 'juice', 'comes', 'in', 'several', 'different', 'varieties'],\n",
    "          ['this', 'is', 'the', 'last', 'machine', 'learning', 'book'],\n",
    "          ['orange', 'juice', 'comes', 'in', 'several', 'different', 'packages'],\n",
    "          ['orange', 'juice', 'is', 'liquid', 'extract', 'from', 'fruit', 'on', 'orange', 'tree']]\n",
    "\n",
    "sentences_ft = [['this', 'is', 'the', 'good', 'machine', 'learning', 'book'],\n",
    "            ['this', 'is',  'another', 'machine', 'learning', 'book'],\n",
    "            ['one', 'more', 'new', 'book']]\n",
    "\n"
   ]
  },
  {
   "cell_type": "code",
   "execution_count": 2,
   "metadata": {
    "colab": {},
    "colab_type": "code",
    "id": "hrlKC_AUrXvM"
   },
   "outputs": [],
   "source": [
    "from gensim.models import FastText\n",
    "model = Word2Vec(sentences, size=20, min_count=1, window=2,sg=0)\n",
    "model_ft = FastText(sentences, size=10, window=5, min_count=1,workers=4,sg=1)"
   ]
  },
  {
   "cell_type": "code",
   "execution_count": 3,
   "metadata": {
    "colab": {
     "base_uri": "https://localhost:8080/",
     "height": 156
    },
    "colab_type": "code",
    "id": "XcDZ3Oyzx2AJ",
    "outputId": "a0c2f373-e552-4cea-906d-f8c1616681f9"
   },
   "outputs": [
    {
     "name": "stdout",
     "output_type": "stream",
     "text": [
      "W2V:  [-0.0179601   0.01190916 -0.0214406   0.02059648 -0.00338935 -0.01257787\n",
      "  0.01937138  0.01900739  0.01506812  0.00870001 -0.01592097  0.00329741\n",
      " -0.01311773 -0.00214735  0.01494737  0.01224626  0.018218    0.01861077\n",
      " -0.00989498 -0.00268844]\n",
      "FT:   [-0.00552799  0.03367986 -0.05883833 -0.00220477 -0.00529791 -0.02039591\n",
      "  0.03492972 -0.02631471 -0.01446425  0.0007874 ]\n"
     ]
    },
    {
     "name": "stderr",
     "output_type": "stream",
     "text": [
      "<ipython-input-3-1496216620fb>:1: DeprecationWarning: Call to deprecated `__getitem__` (Method will be removed in 4.0.0, use self.wv.__getitem__() instead).\n",
      "  print('W2V: ' ,model['is'])\n",
      "<ipython-input-3-1496216620fb>:2: DeprecationWarning: Call to deprecated `__getitem__` (Method will be removed in 4.0.0, use self.wv.__getitem__() instead).\n",
      "  print('FT:  ',model_ft['is'])\n"
     ]
    }
   ],
   "source": [
    "print('W2V: ' ,model['is'])\n",
    "print('FT:  ',model_ft['is'])\n"
   ]
  },
  {
   "cell_type": "code",
   "execution_count": 4,
   "metadata": {
    "colab": {
     "base_uri": "https://localhost:8080/",
     "height": 122
    },
    "colab_type": "code",
    "id": "HcvuoRUjyWuH",
    "outputId": "c7227619-c26e-4631-e92d-548b43b4a360"
   },
   "outputs": [
    {
     "name": "stdout",
     "output_type": "stream",
     "text": [
      "W2V:  -0.17048469\n",
      "FT:  0.37623635\n"
     ]
    }
   ],
   "source": [
    "print('W2V: ',model.wv.similarity('orange','juice'))\n",
    "print('FT: ',model_ft.wv.similarity('orange','juice'))"
   ]
  },
  {
   "cell_type": "code",
   "execution_count": 5,
   "metadata": {
    "colab": {
     "base_uri": "https://localhost:8080/",
     "height": 122
    },
    "colab_type": "code",
    "id": "QCQE4-ed1BU3",
    "outputId": "c5b5febd-5e07-4d18-fbc0-fe9b3b7851a9"
   },
   "outputs": [
    {
     "name": "stdout",
     "output_type": "stream",
     "text": [
      "W2V:  -0.13297836\n",
      "FT:  -0.19383095\n"
     ]
    }
   ],
   "source": [
    "print('W2V: ',model.wv.similarity('this','orange'))\n",
    "\n",
    "print('FT: ',model_ft.wv.similarity('this','orange'))\n"
   ]
  },
  {
   "cell_type": "code",
   "execution_count": 6,
   "metadata": {
    "colab": {
     "base_uri": "https://localhost:8080/",
     "height": 190
    },
    "colab_type": "code",
    "id": "xR_1LesR1hP9",
    "outputId": "28bbc35b-f5f5-4951-8470-a44d00fdba8b"
   },
   "outputs": [
    {
     "name": "stdout",
     "output_type": "stream",
     "text": [
      "W2V:  [('on', 0.2901984751224518), ('different', 0.2756901979446411), ('another', 0.2666744887828827), ('liquid', 0.24220576882362366), ('fruit', 0.23033246397972107)]\n",
      "FT:  [('extract', 0.617983877658844), ('about', 0.4799743592739105), ('juice', 0.37623634934425354), ('comes', 0.26764047145843506), ('one', 0.24458612501621246)]\n"
     ]
    }
   ],
   "source": [
    "print(\"W2V: \", model.wv.most_similar('orange')[:5])\n",
    "print(\"FT: \", model_ft.wv.most_similar('orange')[:5])"
   ]
  },
  {
   "cell_type": "code",
   "execution_count": 7,
   "metadata": {
    "colab": {
     "base_uri": "https://localhost:8080/",
     "height": 377
    },
    "colab_type": "code",
    "id": "wpJT44X05kgs",
    "outputId": "ef5746ca-4b20-455e-bca3-fe3427e47b2d"
   },
   "outputs": [
    {
     "ename": "KeyError",
     "evalue": "\"word 'maachine' not in vocabulary\"",
     "output_type": "error",
     "traceback": [
      "\u001b[1;31m---------------------------------------------------------------------------\u001b[0m",
      "\u001b[1;31mKeyError\u001b[0m                                  Traceback (most recent call last)",
      "\u001b[1;32m<ipython-input-7-b214306fa7f1>\u001b[0m in \u001b[0;36m<module>\u001b[1;34m\u001b[0m\n\u001b[1;32m----> 1\u001b[1;33m \u001b[0mmodel\u001b[0m\u001b[1;33m.\u001b[0m\u001b[0mwv\u001b[0m\u001b[1;33m[\u001b[0m\u001b[1;34m'maachine'\u001b[0m\u001b[1;33m]\u001b[0m\u001b[1;33m\u001b[0m\u001b[1;33m\u001b[0m\u001b[0m\n\u001b[0m\u001b[0;32m      2\u001b[0m \u001b[1;31m#Will generate error; Out of vocabulary word: OOV\u001b[0m\u001b[1;33m\u001b[0m\u001b[1;33m\u001b[0m\u001b[1;33m\u001b[0m\u001b[0m\n",
      "\u001b[1;32mc:\\users\\shubh\\appdata\\local\\programs\\python\\python38-32\\lib\\site-packages\\gensim\\models\\keyedvectors.py\u001b[0m in \u001b[0;36m__getitem__\u001b[1;34m(self, entities)\u001b[0m\n\u001b[0;32m    351\u001b[0m         \u001b[1;32mif\u001b[0m \u001b[0misinstance\u001b[0m\u001b[1;33m(\u001b[0m\u001b[0mentities\u001b[0m\u001b[1;33m,\u001b[0m \u001b[0mstring_types\u001b[0m\u001b[1;33m)\u001b[0m\u001b[1;33m:\u001b[0m\u001b[1;33m\u001b[0m\u001b[1;33m\u001b[0m\u001b[0m\n\u001b[0;32m    352\u001b[0m             \u001b[1;31m# allow calls like trained_model['office'], as a shorthand for trained_model[['office']]\u001b[0m\u001b[1;33m\u001b[0m\u001b[1;33m\u001b[0m\u001b[1;33m\u001b[0m\u001b[0m\n\u001b[1;32m--> 353\u001b[1;33m             \u001b[1;32mreturn\u001b[0m \u001b[0mself\u001b[0m\u001b[1;33m.\u001b[0m\u001b[0mget_vector\u001b[0m\u001b[1;33m(\u001b[0m\u001b[0mentities\u001b[0m\u001b[1;33m)\u001b[0m\u001b[1;33m\u001b[0m\u001b[1;33m\u001b[0m\u001b[0m\n\u001b[0m\u001b[0;32m    354\u001b[0m \u001b[1;33m\u001b[0m\u001b[0m\n\u001b[0;32m    355\u001b[0m         \u001b[1;32mreturn\u001b[0m \u001b[0mvstack\u001b[0m\u001b[1;33m(\u001b[0m\u001b[1;33m[\u001b[0m\u001b[0mself\u001b[0m\u001b[1;33m.\u001b[0m\u001b[0mget_vector\u001b[0m\u001b[1;33m(\u001b[0m\u001b[0mentity\u001b[0m\u001b[1;33m)\u001b[0m \u001b[1;32mfor\u001b[0m \u001b[0mentity\u001b[0m \u001b[1;32min\u001b[0m \u001b[0mentities\u001b[0m\u001b[1;33m]\u001b[0m\u001b[1;33m)\u001b[0m\u001b[1;33m\u001b[0m\u001b[1;33m\u001b[0m\u001b[0m\n",
      "\u001b[1;32mc:\\users\\shubh\\appdata\\local\\programs\\python\\python38-32\\lib\\site-packages\\gensim\\models\\keyedvectors.py\u001b[0m in \u001b[0;36mget_vector\u001b[1;34m(self, word)\u001b[0m\n\u001b[0;32m    469\u001b[0m \u001b[1;33m\u001b[0m\u001b[0m\n\u001b[0;32m    470\u001b[0m     \u001b[1;32mdef\u001b[0m \u001b[0mget_vector\u001b[0m\u001b[1;33m(\u001b[0m\u001b[0mself\u001b[0m\u001b[1;33m,\u001b[0m \u001b[0mword\u001b[0m\u001b[1;33m)\u001b[0m\u001b[1;33m:\u001b[0m\u001b[1;33m\u001b[0m\u001b[1;33m\u001b[0m\u001b[0m\n\u001b[1;32m--> 471\u001b[1;33m         \u001b[1;32mreturn\u001b[0m \u001b[0mself\u001b[0m\u001b[1;33m.\u001b[0m\u001b[0mword_vec\u001b[0m\u001b[1;33m(\u001b[0m\u001b[0mword\u001b[0m\u001b[1;33m)\u001b[0m\u001b[1;33m\u001b[0m\u001b[1;33m\u001b[0m\u001b[0m\n\u001b[0m\u001b[0;32m    472\u001b[0m \u001b[1;33m\u001b[0m\u001b[0m\n\u001b[0;32m    473\u001b[0m     \u001b[1;32mdef\u001b[0m \u001b[0mwords_closer_than\u001b[0m\u001b[1;33m(\u001b[0m\u001b[0mself\u001b[0m\u001b[1;33m,\u001b[0m \u001b[0mw1\u001b[0m\u001b[1;33m,\u001b[0m \u001b[0mw2\u001b[0m\u001b[1;33m)\u001b[0m\u001b[1;33m:\u001b[0m\u001b[1;33m\u001b[0m\u001b[1;33m\u001b[0m\u001b[0m\n",
      "\u001b[1;32mc:\\users\\shubh\\appdata\\local\\programs\\python\\python38-32\\lib\\site-packages\\gensim\\models\\keyedvectors.py\u001b[0m in \u001b[0;36mword_vec\u001b[1;34m(self, word, use_norm)\u001b[0m\n\u001b[0;32m    466\u001b[0m             \u001b[1;32mreturn\u001b[0m \u001b[0mresult\u001b[0m\u001b[1;33m\u001b[0m\u001b[1;33m\u001b[0m\u001b[0m\n\u001b[0;32m    467\u001b[0m         \u001b[1;32melse\u001b[0m\u001b[1;33m:\u001b[0m\u001b[1;33m\u001b[0m\u001b[1;33m\u001b[0m\u001b[0m\n\u001b[1;32m--> 468\u001b[1;33m             \u001b[1;32mraise\u001b[0m \u001b[0mKeyError\u001b[0m\u001b[1;33m(\u001b[0m\u001b[1;34m\"word '%s' not in vocabulary\"\u001b[0m \u001b[1;33m%\u001b[0m \u001b[0mword\u001b[0m\u001b[1;33m)\u001b[0m\u001b[1;33m\u001b[0m\u001b[1;33m\u001b[0m\u001b[0m\n\u001b[0m\u001b[0;32m    469\u001b[0m \u001b[1;33m\u001b[0m\u001b[0m\n\u001b[0;32m    470\u001b[0m     \u001b[1;32mdef\u001b[0m \u001b[0mget_vector\u001b[0m\u001b[1;33m(\u001b[0m\u001b[0mself\u001b[0m\u001b[1;33m,\u001b[0m \u001b[0mword\u001b[0m\u001b[1;33m)\u001b[0m\u001b[1;33m:\u001b[0m\u001b[1;33m\u001b[0m\u001b[1;33m\u001b[0m\u001b[0m\n",
      "\u001b[1;31mKeyError\u001b[0m: \"word 'maachine' not in vocabulary\""
     ]
    }
   ],
   "source": [
    "model.wv['maachine']\n",
    "#Will generate error; Out of vocabulary word: OOV"
   ]
  },
  {
   "cell_type": "code",
   "execution_count": 8,
   "metadata": {},
   "outputs": [
    {
     "data": {
      "text/plain": [
       "array([-0.01146221, -0.00701775, -0.01048237,  0.00852862, -0.00037361,\n",
       "        0.00613205,  0.00666531,  0.00159444,  0.00018649, -0.01788029],\n",
       "      dtype=float32)"
      ]
     },
     "execution_count": 8,
     "metadata": {},
     "output_type": "execute_result"
    }
   ],
   "source": [
    "model_ft.wv['maachine']\n",
    "#FastText showing output, unlike word2vec"
   ]
  },
  {
   "cell_type": "code",
   "execution_count": 9,
   "metadata": {
    "colab": {
     "base_uri": "https://localhost:8080/",
     "height": 275
    },
    "colab_type": "code",
    "id": "gOillgf45ks2",
    "outputId": "55c5adcf-16f6-4cea-d3e6-f8d8a0f0157d"
   },
   "outputs": [
    {
     "data": {
      "text/plain": [
       "[('on', 0.2901984751224518),\n",
       " ('different', 0.2756901979446411),\n",
       " ('another', 0.2666744887828827),\n",
       " ('liquid', 0.24220576882362366),\n",
       " ('fruit', 0.23033246397972107),\n",
       " ('one', 0.17062589526176453),\n",
       " ('post', 0.15735727548599243),\n",
       " ('tree', 0.153498575091362),\n",
       " ('extract', 0.10107308626174927),\n",
       " ('learning', 0.07212817668914795)]"
      ]
     },
     "execution_count": 9,
     "metadata": {},
     "output_type": "execute_result"
    }
   ],
   "source": [
    "close_words = model.wv.similar_by_word('orange')\n",
    "close_words"
   ]
  },
  {
   "cell_type": "code",
   "execution_count": 10,
   "metadata": {},
   "outputs": [
    {
     "data": {
      "text/plain": [
       "[('extract', 0.617983877658844),\n",
       " ('about', 0.4799743592739105),\n",
       " ('juice', 0.37623634934425354),\n",
       " ('comes', 0.26764047145843506),\n",
       " ('one', 0.24458612501621246),\n",
       " ('machine', 0.23994584381580353),\n",
       " ('good', 0.2246474027633667),\n",
       " ('post', 0.20221418142318726),\n",
       " ('from', 0.19821180403232574),\n",
       " ('new', 0.17364373803138733)]"
      ]
     },
     "execution_count": 10,
     "metadata": {},
     "output_type": "execute_result"
    }
   ],
   "source": [
    "close_words_ft = model_ft.wv.similar_by_word('orange')\n",
    "close_words_ft"
   ]
  },
  {
   "cell_type": "code",
   "execution_count": 11,
   "metadata": {
    "colab": {},
    "colab_type": "code",
    "id": "SmUx1C3R5k4J"
   },
   "outputs": [],
   "source": [
    "import numpy as np\n",
    "from sklearn.manifold import TSNE\n",
    "import matplotlib.pyplot as plt\n",
    "\n",
    "def display_closestwords_tsnescatterplot(model, word, size):\n",
    "    \n",
    "    arr = np.empty((0,size), dtype='f')\n",
    "    word_labels = [word]\n",
    "\n",
    "    close_words = model.wv.similar_by_word(word)\n",
    "    arr = np.append(arr, np.array([model.wv[word]]), axis=0)\n",
    "    for wrd_score in close_words:\n",
    "      wrd_vector = model.wv[wrd_score[0]]\n",
    "      word_labels.append(wrd_score[0])\n",
    "      arr = np.append(arr, np.array([wrd_vector]), axis=0)\n",
    "      \n",
    "    tsne = TSNE(n_components=2, random_state=0)\n",
    "    np.set_printoptions(suppress=True)\n",
    "    Y = tsne.fit_transform(arr)\n",
    "    x_coords = Y[:, 0]\n",
    "    y_coords = Y[:, 1]\n",
    "    plt.scatter(x_coords, y_coords)\n",
    "    for label, x, y in zip(word_labels, x_coords, y_coords):\n",
    "        plt.annotate(label, xy=(x, y), xytext=(0, 0), textcoords='offset points')\n",
    "        plt.xlim(x_coords.min()+0.00005, x_coords.max()+0.00005)\n",
    "        plt.ylim(y_coords.min()+0.00005, y_coords.max()+0.00005)\n",
    "        plt.show()\n",
    "\n",
    "\n",
    "    "
   ]
  },
  {
   "cell_type": "code",
   "execution_count": 12,
   "metadata": {
    "colab": {
     "base_uri": "https://localhost:8080/",
     "height": 1000
    },
    "colab_type": "code",
    "id": "QELt1p4ePDo7",
    "outputId": "86b491a8-f7ec-43d8-86d9-d329f503cc55"
   },
   "outputs": [
    {
     "data": {
      "image/png": "[encoded data removed]",
      "text/plain": [
       "<Figure size 432x288 with 1 Axes>"
      ]
     },
     "metadata": {
      "needs_background": "light"
     },
     "output_type": "display_data"
    },
    {
     "data": {
      "image/png": "[encoded data removed]",
      "text/plain": [
       "<Figure size 432x288 with 1 Axes>"
      ]
     },
     "metadata": {
      "needs_background": "light"
     },
     "output_type": "display_data"
    },
    {
     "data": {
      "image/png": "[encoded data removed]",
      "text/plain": [
       "<Figure size 432x288 with 1 Axes>"
      ]
     },
     "metadata": {
      "needs_background": "light"
     },
     "output_type": "display_data"
    },
    {
     "data": {
      "image/png": "[encoded data removed]",
      "text/plain": [
       "<Figure size 432x288 with 1 Axes>"
      ]
     },
     "metadata": {
      "needs_background": "light"
     },
     "output_type": "display_data"
    },
    {
     "data": {
      "image/png": "[encoded data removed]",
      "text/plain": [
       "<Figure size 432x288 with 1 Axes>"
      ]
     },
     "metadata": {
      "needs_background": "light"
     },
     "output_type": "display_data"
    },
    {
     "data": {
      "image/png": "[encoded data removed]",
      "text/plain": [
       "<Figure size 432x288 with 1 Axes>"
      ]
     },
     "metadata": {
      "needs_background": "light"
     },
     "output_type": "display_data"
    },
    {
     "data": {
      "image/png": "[encoded data removed]",
      "text/plain": [
       "<Figure size 432x288 with 1 Axes>"
      ]
     },
     "metadata": {
      "needs_background": "light"
     },
     "output_type": "display_data"
    },
    {
     "data": {
      "image/png": "[encoded data removed]",
      "text/plain": [
       "<Figure size 432x288 with 1 Axes>"
      ]
     },
     "metadata": {
      "needs_background": "light"
     },
     "output_type": "display_data"
    },
    {
     "data": {
      "image/png": "[encoded data removed]",
      "text/plain": [
       "<Figure size 432x288 with 1 Axes>"
      ]
     },
     "metadata": {
      "needs_background": "light"
     },
     "output_type": "display_data"
    },
    {
     "data": {
      "image/png": "[encoded data removed]",
      "text/plain": [
       "<Figure size 432x288 with 1 Axes>"
      ]
     },
     "metadata": {
      "needs_background": "light"
     },
     "output_type": "display_data"
    },
    {
     "data": {
      "image/png": "[encoded data removed]",
      "text/plain": [
       "<Figure size 432x288 with 1 Axes>"
      ]
     },
     "metadata": {
      "needs_background": "light"
     },
     "output_type": "display_data"
    }
   ],
   "source": [
    "#for Word2Vec\n",
    "display_closestwords_tsnescatterplot(model, 'orange', 20) "
   ]
  },
  {
   "cell_type": "code",
   "execution_count": 13,
   "metadata": {
    "scrolled": false
   },
   "outputs": [
    {
     "data": {
      "image/png": "[encoded data removed]",
      "text/plain": [
       "<Figure size 432x288 with 1 Axes>"
      ]
     },
     "metadata": {
      "needs_background": "light"
     },
     "output_type": "display_data"
    },
    {
     "data": {
      "image/png": "[encoded data removed]",
      "text/plain": [
       "<Figure size 432x288 with 1 Axes>"
      ]
     },
     "metadata": {
      "needs_background": "light"
     },
     "output_type": "display_data"
    },
    {
     "data": {
      "image/png": "[encoded data removed]",
      "text/plain": [
       "<Figure size 432x288 with 1 Axes>"
      ]
     },
     "metadata": {
      "needs_background": "light"
     },
     "output_type": "display_data"
    },
    {
     "data": {
      "image/png": "[encoded data removed]",
      "text/plain": [
       "<Figure size 432x288 with 1 Axes>"
      ]
     },
     "metadata": {
      "needs_background": "light"
     },
     "output_type": "display_data"
    },
    {
     "data": {
      "image/png": "[encoded data removed]",
      "text/plain": [
       "<Figure size 432x288 with 1 Axes>"
      ]
     },
     "metadata": {
      "needs_background": "light"
     },
     "output_type": "display_data"
    },
    {
     "data": {
      "image/png": "[encoded data removed]",
      "text/plain": [
       "<Figure size 432x288 with 1 Axes>"
      ]
     },
     "metadata": {
      "needs_background": "light"
     },
     "output_type": "display_data"
    },
    {
     "data": {
      "image/png": "[encoded data removed]",
      "text/plain": [
       "<Figure size 432x288 with 1 Axes>"
      ]
     },
     "metadata": {
      "needs_background": "light"
     },
     "output_type": "display_data"
    },
    {
     "data": {
      "image/png": "[encoded data removed]",
      "text/plain": [
       "<Figure size 432x288 with 1 Axes>"
      ]
     },
     "metadata": {
      "needs_background": "light"
     },
     "output_type": "display_data"
    },
    {
     "data": {
      "image/png": "[encoded data removed]",
      "text/plain": [
       "<Figure size 432x288 with 1 Axes>"
      ]
     },
     "metadata": {
      "needs_background": "light"
     },
     "output_type": "display_data"
    },
    {
     "data": {
      "image/png": "[encoded data removed]",
      "text/plain": [
       "<Figure size 432x288 with 1 Axes>"
      ]
     },
     "metadata": {
      "needs_background": "light"
     },
     "output_type": "display_data"
    },
    {
     "data": {
      "image/png": "[encoded data removed]",
      "text/plain": [
       "<Figure size 432x288 with 1 Axes>"
      ]
     },
     "metadata": {
      "needs_background": "light"
     },
     "output_type": "display_data"
    }
   ],
   "source": [
    "#for FastText\n",
    "display_closestwords_tsnescatterplot(model_ft, 'orange', 10)"
   ]
  },
  {
   "cell_type": "code",
   "execution_count": 30,
   "metadata": {
    "colab": {
     "base_uri": "https://localhost:8080/",
     "height": 71
    },
    "colab_type": "code",
    "id": "ess6_541upPl",
    "outputId": "13975836-72f8-49df-bc3c-8d23621522ae"
   },
   "outputs": [],
   "source": [
    "import numpy as np\n",
    " \n",
    "def sent_vectorizer(sent, model):\n",
    "    sent_vec = np.zeros(20)\n",
    "    numw = 0\n",
    "    for w in sent:\n",
    "        try:\n",
    "            sent_vec = np.add(sent_vec, model.wv[w])\n",
    "            numw+=1\n",
    "        except:\n",
    "            pass\n",
    "    return sent_vec / np.sqrt(sent_vec.dot(sent_vec))\n",
    " \n",
    "V=[]\n",
    "for sentence in sentences:\n",
    "    V.append(sent_vectorizer(sentence, model))\n",
    "    "
   ]
  },
  {
   "cell_type": "code",
   "execution_count": 32,
   "metadata": {},
   "outputs": [],
   "source": [
    "def sent_vectorizer_ft(sent, model):\n",
    "    sent_vec = np.zeros(10)\n",
    "    numw = 0\n",
    "    for w in sent:\n",
    "        try:\n",
    "            sent_vec = np.add(sent_vec, model.wv[w])\n",
    "            numw+=1\n",
    "        except:\n",
    "            pass\n",
    "    return sent_vec / np.sqrt(sent_vec.dot(sent_vec))\n",
    "\n",
    "Ft = []\n",
    "for sentence in sentences:\n",
    "    Ft.append(sent_vectorizer_ft(sentence, model_ft))"
   ]
  },
  {
   "cell_type": "code",
   "execution_count": 33,
   "metadata": {},
   "outputs": [
    {
     "data": {
      "text/plain": [
       "array([-0.5429004 ,  0.23807214, -0.6002917 ,  0.13657718,  0.24628471,\n",
       "       -0.26469531,  0.09887034, -0.1299462 ,  0.24441731,  0.22903363])"
      ]
     },
     "execution_count": 33,
     "metadata": {},
     "output_type": "execute_result"
    }
   ],
   "source": [
    "Ft[0]\n"
   ]
  },
  {
   "cell_type": "code",
   "execution_count": 34,
   "metadata": {
    "colab": {
     "base_uri": "https://localhost:8080/",
     "height": 85
    },
    "colab_type": "code",
    "id": "XNd0oygku_oh",
    "outputId": "a7623d3e-8f3a-43ce-c9fc-2979ff4a42fd"
   },
   "outputs": [
    {
     "data": {
      "text/plain": [
       "array([ 0.09683763, -0.05804521, -0.23131304, -0.09710041,  0.04220685,\n",
       "        0.18498804,  0.18148404, -0.02472197,  0.20275322,  0.48047481,\n",
       "       -0.36938637, -0.41515609,  0.09893282,  0.0284826 ,  0.05353488,\n",
       "       -0.04807457,  0.2661568 ,  0.27193947, -0.26457129,  0.20842028])"
      ]
     },
     "execution_count": 34,
     "metadata": {},
     "output_type": "execute_result"
    }
   ],
   "source": [
    "V[0]"
   ]
  },
  {
   "cell_type": "code",
   "execution_count": 35,
   "metadata": {
    "colab": {
     "base_uri": "https://localhost:8080/",
     "height": 162
    },
    "colab_type": "code",
    "id": "0SMulXYcvICf",
    "outputId": "759d8ebf-c7b1-4419-8cd6-da8b1acf4f90"
   },
   "outputs": [
    {
     "data": {
      "text/plain": [
       "[array([ 0.09683763, -0.05804521, -0.23131304, -0.09710041,  0.04220685,\n",
       "         0.18498804,  0.18148404, -0.02472197,  0.20275322,  0.48047481,\n",
       "        -0.36938637, -0.41515609,  0.09893282,  0.0284826 ,  0.05353488,\n",
       "        -0.04807457,  0.2661568 ,  0.27193947, -0.26457129,  0.20842028]),\n",
       " array([ 0.05462196, -0.1914899 , -0.43428693, -0.12424376,  0.17704458,\n",
       "         0.2346964 ,  0.17585565,  0.10183534,  0.04181838,  0.36795697,\n",
       "        -0.20161938, -0.37725277, -0.09795741, -0.0361519 ,  0.2968588 ,\n",
       "        -0.10065698,  0.20572742, -0.01513439, -0.37871921,  0.11546338]),\n",
       " array([-0.00025228,  0.17391084, -0.22339089, -0.34000868, -0.00676524,\n",
       "        -0.06918398,  0.36630464, -0.07131162, -0.08505977,  0.25379313,\n",
       "         0.1968204 , -0.51309952,  0.00559912,  0.20076284,  0.29636494,\n",
       "        -0.04413424, -0.19246301, -0.20186212, -0.22076994, -0.17276188]),\n",
       " array([-0.06406294, -0.13139516, -0.37288753,  0.04702556, -0.16303064,\n",
       "         0.05379452,  0.22767823,  0.46217665,  0.18036244,  0.36452581,\n",
       "        -0.39899062, -0.12559257, -0.14569203, -0.07760414,  0.13463664,\n",
       "         0.01956444,  0.22261532,  0.12173282, -0.29206841,  0.08149726]),\n",
       " array([-0.20586722, -0.3010675 , -0.00436864,  0.17868534, -0.10574688,\n",
       "        -0.1204912 ,  0.32186306,  0.2173981 ,  0.12212127,  0.29226352,\n",
       "         0.04888658, -0.2633163 , -0.24529618, -0.10508491, -0.37363098,\n",
       "         0.23115319,  0.14309241, -0.20660222, -0.37798505, -0.12703031]),\n",
       " array([-0.43449668,  0.03939861,  0.16829866,  0.18062551,  0.11385771,\n",
       "         0.05597237, -0.09743221,  0.10746349,  0.16177852, -0.10999044,\n",
       "         0.26023244,  0.06967673,  0.00098294,  0.1872759 , -0.37474633,\n",
       "         0.19462239, -0.04257454,  0.18372158,  0.43043907,  0.40803992]),\n",
       " array([ 0.08761491, -0.13266677, -0.35717552, -0.01675798, -0.05255007,\n",
       "         0.11352752,  0.23944396,  0.03731589,  0.11868023,  0.40412255,\n",
       "        -0.25398144, -0.48229091,  0.0811756 , -0.08062099,  0.18638461,\n",
       "         0.10496833,  0.24177051,  0.19167391, -0.34378857,  0.1604734 ]),\n",
       " array([-0.34211313,  0.17606504,  0.05035634,  0.18731878,  0.16004046,\n",
       "         0.1408129 ,  0.16943505,  0.02605824,  0.21963364, -0.20717891,\n",
       "         0.40941273,  0.07492219, -0.01269087, -0.03451312, -0.29174976,\n",
       "         0.30497455, -0.00735193,  0.10105443,  0.49781698,  0.1937668 ]),\n",
       " array([-0.13389452, -0.346527  ,  0.21114243,  0.16006904,  0.1703409 ,\n",
       "        -0.01495489, -0.04176751,  0.25683946,  0.26713941,  0.51859642,\n",
       "        -0.07267182,  0.05434101, -0.32779111, -0.02216187, -0.30119211,\n",
       "         0.04490093, -0.12998666, -0.21455545, -0.22631504, -0.17741898])]"
      ]
     },
     "execution_count": 35,
     "metadata": {},
     "output_type": "execute_result"
    }
   ],
   "source": [
    "V"
   ]
  },
  {
   "cell_type": "code",
   "execution_count": 36,
   "metadata": {},
   "outputs": [
    {
     "data": {
      "text/plain": [
       "[array([-0.5429004 ,  0.23807214, -0.6002917 ,  0.13657718,  0.24628471,\n",
       "        -0.26469531,  0.09887034, -0.1299462 ,  0.24441731,  0.22903363]),\n",
       " array([-0.28635985,  0.10076938, -0.76030493,  0.1848497 ,  0.21813349,\n",
       "        -0.25124232,  0.17123794, -0.31415261, -0.00860599,  0.23836376]),\n",
       " array([-0.37434079, -0.07224928,  0.3425173 , -0.47863582, -0.34981759,\n",
       "         0.06126298, -0.31822425, -0.49979776,  0.13229013,  0.11639594]),\n",
       " array([-0.22112043,  0.3762987 , -0.4923672 ,  0.57592395,  0.04600418,\n",
       "         0.17394183, -0.14864405,  0.41548679,  0.01270893,  0.09018431]),\n",
       " array([-0.28338127,  0.14887039, -0.60565637,  0.53110072, -0.37220022,\n",
       "        -0.21600472,  0.15935703, -0.18624948,  0.00022643, -0.05805525]),\n",
       " array([-0.36895303, -0.53592721, -0.25437834,  0.22075489, -0.12338124,\n",
       "         0.21330898, -0.01812752,  0.44354221, -0.06550538, -0.44848826]),\n",
       " array([-0.37788853,  0.11215596, -0.67873891,  0.0794985 ,  0.2221971 ,\n",
       "        -0.25543924,  0.07328874, -0.39131909,  0.09552828,  0.30881468]),\n",
       " array([-0.23637597, -0.40324272, -0.29184155,  0.32200113, -0.1215177 ,\n",
       "         0.24296051, -0.00100015,  0.48865308,  0.1690437 , -0.50150825]),\n",
       " array([-0.21362465,  0.13607506, -0.07530198, -0.22390613, -0.66737576,\n",
       "        -0.17913099, -0.53681738,  0.23640021, -0.23477711,  0.05819951])]"
      ]
     },
     "execution_count": 36,
     "metadata": {},
     "output_type": "execute_result"
    }
   ],
   "source": [
    "Ft"
   ]
  },
  {
   "cell_type": "code",
   "execution_count": null,
   "metadata": {},
   "outputs": [],
   "source": []
  }
 ],
 "metadata": {
  "colab": {
   "collapsed_sections": [],
   "name": "Word2vec.ipynb",
   "provenance": []
  },
  "kernelspec": {
   "display_name": "Python 3",
   "language": "python",
   "name": "python3"
  },
  "language_info": {
   "codemirror_mode": {
    "name": "ipython",
    "version": 3
   },
   "file_extension": ".py",
   "mimetype": "text/x-python",
   "name": "python",
   "nbconvert_exporter": "python",
   "pygments_lexer": "ipython3",
   "version": "3.8.5"
  }
 },
 "nbformat": 4,
 "nbformat_minor": 1
}
