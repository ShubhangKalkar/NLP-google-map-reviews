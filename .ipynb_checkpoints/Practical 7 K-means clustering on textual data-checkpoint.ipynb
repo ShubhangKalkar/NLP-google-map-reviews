{
 "cells": [
  {
   "cell_type": "markdown",
   "metadata": {},
   "source": [
    "## Practical 7 : Implementing K-means Clustering algorithm on text."
   ]
  },
  {
   "cell_type": "code",
   "execution_count": 1,
   "metadata": {},
   "outputs": [],
   "source": [
    "document = [\"This is the most beautiful place in the world.\", \n",
    "\"This man has more skills to show in cricket than any other game.\", \"Hi there! how was your ladakh trip last month?\", \n",
    "\"There was a player who had scored 200+ runs in single cricket innings in his career.\", \n",
    "\"I have got the opportunity to travel to Paris next year for my internship.\", \n",
    "\"May be he is better than you in batting but you are much better than him in bowling.\", \n",
    "\"That was really a great day for me when I was there at Lavasa for the whole night.\", \n",
    "\"That’s exactly I wanted to become, a highest ratting batsmen ever with top scores.\", \n",
    "\"Does it really matter wether you go to Thailand or Goa, its just you have spend your holidays.\", \n",
    "\"Why don’t you go to Switzerland next year for your 25th Wedding anniversary?\", \n",
    "\"Travel is fatal to prejudice, bigotry, and narrow mindedness., and many of our people need it sorely on these accounts.\", \n",
    "\"Stop worrying about the potholes in the road and enjoy the journey.\", \n",
    "\"No cricket team in the world depends on one or two players. The team always plays to win.\", \n",
    "\"Cricket is a team game. If you want fame for yourself, go play an individual game.\", \n",
    "\"Because in the end, you won’t remember the time you spent working in the office or mowing your lawn. Climb that goddamn mountain.\", \n",
    "\"Isn’t cricket supposed to be a team sport? I feel people should decide first whether cricket is a team game or an individual sport.\"]"
   ]
  },
  {
   "cell_type": "code",
   "execution_count": 2,
   "metadata": {},
   "outputs": [],
   "source": [
    "from sklearn.feature_extraction.text import TfidfVectorizer\n",
    "from sklearn.cluster import KMeans\n",
    "import numpy as np\n",
    "import pandas as pd"
   ]
  },
  {
   "cell_type": "code",
   "execution_count": 3,
   "metadata": {},
   "outputs": [],
   "source": [
    "# Usinf tf-idf to fit and transform the doc\n",
    "vectorizer = TfidfVectorizer(stop_words='english')\n",
    "X = vectorizer.fit_transform(document)"
   ]
  },
  {
   "cell_type": "code",
   "execution_count": 4,
   "metadata": {},
   "outputs": [
    {
     "data": {
      "text/plain": [
       "KMeans(max_iter=100, n_clusters=2, n_init=1)"
      ]
     },
     "execution_count": 4,
     "metadata": {},
     "output_type": "execute_result"
    }
   ],
   "source": [
    "true_k = 2\n",
    "model = KMeans(n_clusters=true_k, init='k-means++', max_iter=100, n_init=1)\n",
    "model.fit(X)"
   ]
  },
  {
   "cell_type": "code",
   "execution_count": 5,
   "metadata": {},
   "outputs": [
    {
     "name": "stdout",
     "output_type": "stream",
     "text": [
      "o_c :  [[ 7 91 62 80 54  6 89 81 29 44 38 13 49 39 28 51 34 27 52  1 76  3 17 84\n",
      "   5  9 25 42 71 16 31 78 37 85 47 48 43 60 22 70  8  2 40 26 11 18 45 50\n",
      "  88 87 46 72 79 63 53 90 12 69 15 14 73 75 74 10 19 77 82 83  4 86 68 67\n",
      "  20 21 41 55 56 57 36 35 58 33 32 59 30 61 64 65 66 24 23  0]\n",
      " [12 77 24 69 41 32 73 19 64 61 74 59 67 20 83  4 90 30 36 55 21 82 65 56\n",
      "   0 33 66 68 10 15 86 58 57 89 35 23 14 75 53 16 26 31 13 11  1 29 28 27\n",
      "   2 25  3  9 22  5  8  7 18 17  6 91 34 37 88 87 85 84 81 80 79 78 76 72\n",
      "  71 70 63 62 60 54 52 51 50 49 48 47 46 44 43 42 40 39 38 45]]\n",
      "terms :  ['200', '25th', 'accounts', 'anniversary', 'batsmen', 'batting', 'beautiful', 'better', 'bigotry', 'bowling', 'career', 'climb', 'cricket', 'day', 'decide', 'depends', 'does', 'don', 'end', 'enjoy', 'exactly', 'fame', 'fatal', 'feel', 'game', 'goa', 'goddamn', 'got', 'great', 'hi', 'highest', 'holidays', 'individual', 'innings', 'internship', 'isn', 'journey', 'just', 'ladakh', 'lavasa', 'lawn', 'man', 'matter', 'mindedness', 'month', 'mountain', 'mowing', 'narrow', 'need', 'night', 'office', 'opportunity', 'paris', 'people', 'place', 'play', 'player', 'players', 'plays', 'potholes', 'prejudice', 'ratting', 'really', 'remember', 'road', 'runs', 'scored', 'scores', 'single', 'skills', 'sorely', 'spend', 'spent', 'sport', 'stop', 'supposed', 'switzerland', 'team', 'thailand', 'time', 'travel', 'trip', 'want', 'wanted', 'wedding', 'wether', 'win', 'won', 'working', 'world', 'worrying', 'year']\n"
     ]
    }
   ],
   "source": [
    "order_centroids = model.cluster_centers_.argsort()[:, ::-1]\n",
    "terms = vectorizer.get_feature_names()\n",
    "\n",
    "print('o_c : ',order_centroids)\n",
    "\n",
    "print('terms : ',terms)"
   ]
  },
  {
   "cell_type": "code",
   "execution_count": 6,
   "metadata": {},
   "outputs": [
    {
     "name": "stdout",
     "output_type": "stream",
     "text": [
      "Cluster 0:\n",
      "better\n",
      "year\n",
      "really\n",
      "travel\n",
      "place\n",
      "beautiful\n",
      "world\n",
      "trip\n",
      "hi\n",
      "month\n",
      "Cluster 1:\n",
      "cricket\n",
      "team\n",
      "game\n",
      "skills\n",
      "man\n",
      "individual\n",
      "sport\n",
      "enjoy\n",
      "road\n",
      "ratting\n"
     ]
    }
   ],
   "source": [
    "for i in range(true_k):\n",
    "    print(\"Cluster %d:\" % i)\n",
    "    for ind in order_centroids[i, :10]:\n",
    "        print(\"%s\" % terms[ind])"
   ]
  },
  {
   "cell_type": "code",
   "execution_count": 7,
   "metadata": {},
   "outputs": [
    {
     "name": "stdout",
     "output_type": "stream",
     "text": [
      "Predicted cluster: [1]\n"
     ]
    }
   ],
   "source": [
    "X = vectorizer.transform(['Nothing is easy in cricket. Maybe when you watch it on TV, it looks easy. But it is not. You have to use your brain and time the ball.'])\n",
    "predicted = model.predict(X)\n",
    "print('Predicted cluster:', predicted)"
   ]
  },
  {
   "cell_type": "code",
   "execution_count": null,
   "metadata": {},
   "outputs": [],
   "source": []
  }
 ],
 "metadata": {
  "kernelspec": {
   "display_name": "Python 3",
   "language": "python",
   "name": "python3"
  },
  "language_info": {
   "codemirror_mode": {
    "name": "ipython",
    "version": 3
   },
   "file_extension": ".py",
   "mimetype": "text/x-python",
   "name": "python",
   "nbconvert_exporter": "python",
   "pygments_lexer": "ipython3",
   "version": "3.8.5"
  }
 },
 "nbformat": 4,
 "nbformat_minor": 2
}
