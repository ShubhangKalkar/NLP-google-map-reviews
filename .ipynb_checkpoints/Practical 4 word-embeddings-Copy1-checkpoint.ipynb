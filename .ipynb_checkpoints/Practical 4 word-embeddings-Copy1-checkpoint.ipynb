{
 "cells": [
  {
   "cell_type": "markdown",
   "metadata": {},
   "source": [
    "## Practical 4 : Implementing word embedding using word2vec/FastText"
   ]
  },
  {
   "cell_type": "code",
   "execution_count": 2,
   "metadata": {
    "colab": {},
    "colab_type": "code",
    "id": "WXc__mkeq0eY"
   },
   "outputs": [],
   "source": [
    "from gensim.models import Word2Vec\n",
    "from gensim.models import FastText\n",
    "sentences = [['this', 'is', 'the', 'good', 'machine', 'learning', 'book'],\n",
    "            ['this', 'is',  'another', 'machine', 'learning', 'book'],\n",
    "            ['one', 'more', 'new', 'book'],\n",
    "         \n",
    "          ['this', 'is', 'about', 'machine', 'learning', 'post'],\n",
    "          ['orange', 'juice', 'is', 'the', 'liquid', 'extract', 'of', 'fruit'],\n",
    "          ['orange', 'juice', 'comes', 'in', 'several', 'different', 'varieties'],\n",
    "          ['this', 'is', 'the', 'last', 'machine', 'learning', 'book'],\n",
    "          ['orange', 'juice', 'comes', 'in', 'several', 'different', 'packages'],\n",
    "          ['orange', 'juice', 'is', 'liquid', 'extract', 'from', 'fruit', 'on', 'orange', 'tree']]\n",
    "\n",
    "sentences_ft = [['this', 'is', 'the', 'good', 'machine', 'learning', 'book'],\n",
    "            ['this', 'is',  'another', 'machine', 'learning', 'book'],\n",
    "            ['one', 'more', 'new', 'book']]\n",
    "\n"
   ]
  },
  {
   "cell_type": "code",
   "execution_count": 3,
   "metadata": {
    "colab": {},
    "colab_type": "code",
    "id": "hrlKC_AUrXvM"
   },
   "outputs": [],
   "source": [
    "from gensim.models import FastText\n",
    "model = Word2Vec(sentences, size=20, min_count=1, window=2,sg=0)\n",
    "model_ft = FastText(sentences, size=10, window=5, min_count=1,workers=4,sg=1)"
   ]
  },
  {
   "cell_type": "code",
   "execution_count": 4,
   "metadata": {
    "colab": {
     "base_uri": "https://localhost:8080/",
     "height": 156
    },
    "colab_type": "code",
    "id": "XcDZ3Oyzx2AJ",
    "outputId": "a0c2f373-e552-4cea-906d-f8c1616681f9"
   },
   "outputs": [
    {
     "name": "stdout",
     "output_type": "stream",
     "text": [
      "W2V:  [ 0.01780521 -0.01979755  0.01421573 -0.0075207   0.02399337 -0.016357\n",
      "  0.01500304 -0.01266457 -0.01065801 -0.00153732  0.0180159   0.01845435\n",
      "  0.00468417  0.0143957   0.00521938 -0.02148973 -0.01138082  0.02306563\n",
      " -0.00268592  0.01297764]\n",
      "FT:   [-0.00552799  0.03367986 -0.05883833 -0.00220477 -0.00529791 -0.02039591\n",
      "  0.03492972 -0.02631471 -0.01446425  0.0007874 ]\n"
     ]
    },
    {
     "name": "stderr",
     "output_type": "stream",
     "text": [
      "<ipython-input-4-1496216620fb>:1: DeprecationWarning: Call to deprecated `__getitem__` (Method will be removed in 4.0.0, use self.wv.__getitem__() instead).\n",
      "  print('W2V: ' ,model['is'])\n",
      "<ipython-input-4-1496216620fb>:2: DeprecationWarning: Call to deprecated `__getitem__` (Method will be removed in 4.0.0, use self.wv.__getitem__() instead).\n",
      "  print('FT:  ',model_ft['is'])\n"
     ]
    }
   ],
   "source": [
    "print('W2V: ' ,model['is'])\n",
    "print('FT:  ',model_ft['is'])\n"
   ]
  },
  {
   "cell_type": "code",
   "execution_count": 5,
   "metadata": {
    "colab": {
     "base_uri": "https://localhost:8080/",
     "height": 122
    },
    "colab_type": "code",
    "id": "HcvuoRUjyWuH",
    "outputId": "c7227619-c26e-4631-e92d-548b43b4a360"
   },
   "outputs": [
    {
     "name": "stdout",
     "output_type": "stream",
     "text": [
      "W2V:  0.4763415\n",
      "FT:  0.37623635\n"
     ]
    }
   ],
   "source": [
    "print('W2V: ',model.wv.similarity('orange','juice'))\n",
    "print('FT: ',model_ft.wv.similarity('orange','juice'))"
   ]
  },
  {
   "cell_type": "code",
   "execution_count": 6,
   "metadata": {
    "colab": {
     "base_uri": "https://localhost:8080/",
     "height": 122
    },
    "colab_type": "code",
    "id": "QCQE4-ed1BU3",
    "outputId": "c5b5febd-5e07-4d18-fbc0-fe9b3b7851a9"
   },
   "outputs": [
    {
     "name": "stdout",
     "output_type": "stream",
     "text": [
      "W2V:  -0.10829055\n",
      "FT:  -0.19383095\n"
     ]
    }
   ],
   "source": [
    "print('W2V: ',model.wv.similarity('this','orange'))\n",
    "\n",
    "print('FT: ',model_ft.wv.similarity('this','orange'))\n"
   ]
  },
  {
   "cell_type": "code",
   "execution_count": 7,
   "metadata": {
    "colab": {
     "base_uri": "https://localhost:8080/",
     "height": 190
    },
    "colab_type": "code",
    "id": "xR_1LesR1hP9",
    "outputId": "28bbc35b-f5f5-4951-8470-a44d00fdba8b"
   },
   "outputs": [
    {
     "name": "stdout",
     "output_type": "stream",
     "text": [
      "W2V:  [('juice', 0.47634145617485046), ('is', 0.3868941366672516), ('more', 0.38075345754623413), ('different', 0.2770364582538605), ('post', 0.2670666575431824)]\n",
      "FT:  [('extract', 0.617983877658844), ('about', 0.4799743592739105), ('juice', 0.37623634934425354), ('comes', 0.26764047145843506), ('one', 0.24458612501621246)]\n"
     ]
    }
   ],
   "source": [
    "print(\"W2V: \", model.wv.most_similar('orange')[:5])\n",
    "print(\"FT: \", model_ft.wv.most_similar('orange')[:5])"
   ]
  },
  {
   "cell_type": "code",
   "execution_count": 8,
   "metadata": {
    "colab": {
     "base_uri": "https://localhost:8080/",
     "height": 377
    },
    "colab_type": "code",
    "id": "wpJT44X05kgs",
    "outputId": "ef5746ca-4b20-455e-bca3-fe3427e47b2d"
   },
   "outputs": [
    {
     "ename": "KeyError",
     "evalue": "\"word 'maachine' not in vocabulary\"",
     "output_type": "error",
     "traceback": [
      "\u001b[1;31m---------------------------------------------------------------------------\u001b[0m",
      "\u001b[1;31mKeyError\u001b[0m                                  Traceback (most recent call last)",
      "\u001b[1;32m<ipython-input-8-b214306fa7f1>\u001b[0m in \u001b[0;36m<module>\u001b[1;34m\u001b[0m\n\u001b[1;32m----> 1\u001b[1;33m \u001b[0mmodel\u001b[0m\u001b[1;33m.\u001b[0m\u001b[0mwv\u001b[0m\u001b[1;33m[\u001b[0m\u001b[1;34m'maachine'\u001b[0m\u001b[1;33m]\u001b[0m\u001b[1;33m\u001b[0m\u001b[1;33m\u001b[0m\u001b[0m\n\u001b[0m\u001b[0;32m      2\u001b[0m \u001b[1;31m#Will generate error; Out of vocabulary word: OOV\u001b[0m\u001b[1;33m\u001b[0m\u001b[1;33m\u001b[0m\u001b[1;33m\u001b[0m\u001b[0m\n",
      "\u001b[1;32mc:\\users\\shubh\\appdata\\local\\programs\\python\\python38-32\\lib\\site-packages\\gensim\\models\\keyedvectors.py\u001b[0m in \u001b[0;36m__getitem__\u001b[1;34m(self, entities)\u001b[0m\n\u001b[0;32m    351\u001b[0m         \u001b[1;32mif\u001b[0m \u001b[0misinstance\u001b[0m\u001b[1;33m(\u001b[0m\u001b[0mentities\u001b[0m\u001b[1;33m,\u001b[0m \u001b[0mstring_types\u001b[0m\u001b[1;33m)\u001b[0m\u001b[1;33m:\u001b[0m\u001b[1;33m\u001b[0m\u001b[1;33m\u001b[0m\u001b[0m\n\u001b[0;32m    352\u001b[0m             \u001b[1;31m# allow calls like trained_model['office'], as a shorthand for trained_model[['office']]\u001b[0m\u001b[1;33m\u001b[0m\u001b[1;33m\u001b[0m\u001b[1;33m\u001b[0m\u001b[0m\n\u001b[1;32m--> 353\u001b[1;33m             \u001b[1;32mreturn\u001b[0m \u001b[0mself\u001b[0m\u001b[1;33m.\u001b[0m\u001b[0mget_vector\u001b[0m\u001b[1;33m(\u001b[0m\u001b[0mentities\u001b[0m\u001b[1;33m)\u001b[0m\u001b[1;33m\u001b[0m\u001b[1;33m\u001b[0m\u001b[0m\n\u001b[0m\u001b[0;32m    354\u001b[0m \u001b[1;33m\u001b[0m\u001b[0m\n\u001b[0;32m    355\u001b[0m         \u001b[1;32mreturn\u001b[0m \u001b[0mvstack\u001b[0m\u001b[1;33m(\u001b[0m\u001b[1;33m[\u001b[0m\u001b[0mself\u001b[0m\u001b[1;33m.\u001b[0m\u001b[0mget_vector\u001b[0m\u001b[1;33m(\u001b[0m\u001b[0mentity\u001b[0m\u001b[1;33m)\u001b[0m \u001b[1;32mfor\u001b[0m \u001b[0mentity\u001b[0m \u001b[1;32min\u001b[0m \u001b[0mentities\u001b[0m\u001b[1;33m]\u001b[0m\u001b[1;33m)\u001b[0m\u001b[1;33m\u001b[0m\u001b[1;33m\u001b[0m\u001b[0m\n",
      "\u001b[1;32mc:\\users\\shubh\\appdata\\local\\programs\\python\\python38-32\\lib\\site-packages\\gensim\\models\\keyedvectors.py\u001b[0m in \u001b[0;36mget_vector\u001b[1;34m(self, word)\u001b[0m\n\u001b[0;32m    469\u001b[0m \u001b[1;33m\u001b[0m\u001b[0m\n\u001b[0;32m    470\u001b[0m     \u001b[1;32mdef\u001b[0m \u001b[0mget_vector\u001b[0m\u001b[1;33m(\u001b[0m\u001b[0mself\u001b[0m\u001b[1;33m,\u001b[0m \u001b[0mword\u001b[0m\u001b[1;33m)\u001b[0m\u001b[1;33m:\u001b[0m\u001b[1;33m\u001b[0m\u001b[1;33m\u001b[0m\u001b[0m\n\u001b[1;32m--> 471\u001b[1;33m         \u001b[1;32mreturn\u001b[0m \u001b[0mself\u001b[0m\u001b[1;33m.\u001b[0m\u001b[0mword_vec\u001b[0m\u001b[1;33m(\u001b[0m\u001b[0mword\u001b[0m\u001b[1;33m)\u001b[0m\u001b[1;33m\u001b[0m\u001b[1;33m\u001b[0m\u001b[0m\n\u001b[0m\u001b[0;32m    472\u001b[0m \u001b[1;33m\u001b[0m\u001b[0m\n\u001b[0;32m    473\u001b[0m     \u001b[1;32mdef\u001b[0m \u001b[0mwords_closer_than\u001b[0m\u001b[1;33m(\u001b[0m\u001b[0mself\u001b[0m\u001b[1;33m,\u001b[0m \u001b[0mw1\u001b[0m\u001b[1;33m,\u001b[0m \u001b[0mw2\u001b[0m\u001b[1;33m)\u001b[0m\u001b[1;33m:\u001b[0m\u001b[1;33m\u001b[0m\u001b[1;33m\u001b[0m\u001b[0m\n",
      "\u001b[1;32mc:\\users\\shubh\\appdata\\local\\programs\\python\\python38-32\\lib\\site-packages\\gensim\\models\\keyedvectors.py\u001b[0m in \u001b[0;36mword_vec\u001b[1;34m(self, word, use_norm)\u001b[0m\n\u001b[0;32m    466\u001b[0m             \u001b[1;32mreturn\u001b[0m \u001b[0mresult\u001b[0m\u001b[1;33m\u001b[0m\u001b[1;33m\u001b[0m\u001b[0m\n\u001b[0;32m    467\u001b[0m         \u001b[1;32melse\u001b[0m\u001b[1;33m:\u001b[0m\u001b[1;33m\u001b[0m\u001b[1;33m\u001b[0m\u001b[0m\n\u001b[1;32m--> 468\u001b[1;33m             \u001b[1;32mraise\u001b[0m \u001b[0mKeyError\u001b[0m\u001b[1;33m(\u001b[0m\u001b[1;34m\"word '%s' not in vocabulary\"\u001b[0m \u001b[1;33m%\u001b[0m \u001b[0mword\u001b[0m\u001b[1;33m)\u001b[0m\u001b[1;33m\u001b[0m\u001b[1;33m\u001b[0m\u001b[0m\n\u001b[0m\u001b[0;32m    469\u001b[0m \u001b[1;33m\u001b[0m\u001b[0m\n\u001b[0;32m    470\u001b[0m     \u001b[1;32mdef\u001b[0m \u001b[0mget_vector\u001b[0m\u001b[1;33m(\u001b[0m\u001b[0mself\u001b[0m\u001b[1;33m,\u001b[0m \u001b[0mword\u001b[0m\u001b[1;33m)\u001b[0m\u001b[1;33m:\u001b[0m\u001b[1;33m\u001b[0m\u001b[1;33m\u001b[0m\u001b[0m\n",
      "\u001b[1;31mKeyError\u001b[0m: \"word 'maachine' not in vocabulary\""
     ]
    }
   ],
   "source": [
    "model.wv['maachine']\n",
    "#Will generate error; Out of vocabulary word: OOV"
   ]
  },
  {
   "cell_type": "code",
   "execution_count": 9,
   "metadata": {},
   "outputs": [
    {
     "data": {
      "text/plain": [
       "array([-0.01146221, -0.00701775, -0.01048237,  0.00852862, -0.00037361,\n",
       "        0.00613205,  0.00666531,  0.00159444,  0.00018649, -0.01788029],\n",
       "      dtype=float32)"
      ]
     },
     "execution_count": 9,
     "metadata": {},
     "output_type": "execute_result"
    }
   ],
   "source": [
    "model_ft.wv['maachine']\n",
    "#FastText showing output, unlike word2vec"
   ]
  },
  {
   "cell_type": "code",
   "execution_count": 10,
   "metadata": {
    "colab": {
     "base_uri": "https://localhost:8080/",
     "height": 275
    },
    "colab_type": "code",
    "id": "gOillgf45ks2",
    "outputId": "55c5adcf-16f6-4cea-d3e6-f8d8a0f0157d"
   },
   "outputs": [
    {
     "data": {
      "text/plain": [
       "[('juice', 0.47634145617485046),\n",
       " ('is', 0.3868941366672516),\n",
       " ('more', 0.38075345754623413),\n",
       " ('different', 0.2770364582538605),\n",
       " ('post', 0.2670666575431824),\n",
       " ('good', 0.24622459709644318),\n",
       " ('last', 0.22889892756938934),\n",
       " ('tree', 0.21800294518470764),\n",
       " ('comes', 0.18154746294021606),\n",
       " ('packages', 0.17940381169319153)]"
      ]
     },
     "execution_count": 10,
     "metadata": {},
     "output_type": "execute_result"
    }
   ],
   "source": [
    "close_words = model.wv.similar_by_word('orange')\n",
    "close_words"
   ]
  },
  {
   "cell_type": "code",
   "execution_count": 11,
   "metadata": {},
   "outputs": [
    {
     "data": {
      "text/plain": [
       "[('extract', 0.617983877658844),\n",
       " ('about', 0.4799743592739105),\n",
       " ('juice', 0.37623634934425354),\n",
       " ('comes', 0.26764047145843506),\n",
       " ('one', 0.24458612501621246),\n",
       " ('machine', 0.23994584381580353),\n",
       " ('good', 0.2246474027633667),\n",
       " ('post', 0.20221418142318726),\n",
       " ('from', 0.19821180403232574),\n",
       " ('new', 0.17364373803138733)]"
      ]
     },
     "execution_count": 11,
     "metadata": {},
     "output_type": "execute_result"
    }
   ],
   "source": [
    "close_words_ft = model_ft.wv.similar_by_word('orange')\n",
    "close_words_ft"
   ]
  },
  {
   "cell_type": "code",
   "execution_count": 14,
   "metadata": {
    "colab": {},
    "colab_type": "code",
    "id": "SmUx1C3R5k4J"
   },
   "outputs": [],
   "source": [
    "import numpy as np\n",
    "from sklearn.manifold import TSNE\n",
    "import matplotlib.pyplot as plt\n",
    "\n",
    "def display_closestwords_tsnescatterplot(model, word, size):\n",
    "    \n",
    "    arr = np.empty((0,size), dtype='f')\n",
    "    word_labels = [word]\n",
    "\n",
    "    close_words = model.wv.similar_by_word(word)\n",
    "    arr = np.append(arr, np.array([model.wv[word]]), axis=0)\n",
    "    for wrd_score in close_words:\n",
    "      wrd_vector = model.wv[wrd_score[0]]\n",
    "      word_labels.append(wrd_score[0])\n",
    "      arr = np.append(arr, np.array([wrd_vector]), axis=0)\n",
    "      \n",
    "    tsne = TSNE(n_components=2, random_state=0)\n",
    "    np.set_printoptions(suppress=True)\n",
    "    Y = tsne.fit_transform(arr)\n",
    "    x_coords = Y[:, 0]\n",
    "    y_coords = Y[:, 1]\n",
    "    plt.scatter(x_coords, y_coords)\n",
    "    for label, x, y in zip(word_labels, x_coords, y_coords):\n",
    "        plt.annotate(label, xy=(x, y), xytext=(0, 0), textcoords='offset points')\n",
    "        plt.xlim(x_coords.min()+0.00005, x_coords.max()+0.00005)\n",
    "        plt.ylim(y_coords.min()+0.00005, y_coords.max()+0.00005)\n",
    "        plt.show()\n",
    "\n",
    "\n",
    "    "
   ]
  },
  {
   "cell_type": "code",
   "execution_count": 15,
   "metadata": {
    "colab": {
     "base_uri": "https://localhost:8080/",
     "height": 1000
    },
    "colab_type": "code",
    "collapsed": true,
    "id": "QELt1p4ePDo7",
    "outputId": "86b491a8-f7ec-43d8-86d9-d329f503cc55"
   },
   "outputs": [
    {
     "data": {
      "image/png": "[encoded data removed]",
      "text/plain": [
       "<Figure size 432x288 with 1 Axes>"
      ]
     },
     "metadata": {
      "needs_background": "light"
     },
     "output_type": "display_data"
    },
    {
     "data": {
      "image/png": "[encoded data removed]",
      "text/plain": [
       "<Figure size 432x288 with 1 Axes>"
      ]
     },
     "metadata": {
      "needs_background": "light"
     },
     "output_type": "display_data"
    },
    {
     "data": {
      "image/png": "[encoded data removed]",
      "text/plain": [
       "<Figure size 432x288 with 1 Axes>"
      ]
     },
     "metadata": {
      "needs_background": "light"
     },
     "output_type": "display_data"
    },
    {
     "data": {
      "image/png": "[encoded data removed]",
      "text/plain": [
       "<Figure size 432x288 with 1 Axes>"
      ]
     },
     "metadata": {
      "needs_background": "light"
     },
     "output_type": "display_data"
    },
    {
     "data": {
      "image/png": "[encoded data removed]",
      "text/plain": [
       "<Figure size 432x288 with 1 Axes>"
      ]
     },
     "metadata": {
      "needs_background": "light"
     },
     "output_type": "display_data"
    },
    {
     "data": {
      "image/png": "[encoded data removed]",
      "text/plain": [
       "<Figure size 432x288 with 1 Axes>"
      ]
     },
     "metadata": {
      "needs_background": "light"
     },
     "output_type": "display_data"
    },
    {
     "data": {
      "image/png": "[encoded data removed]",
      "text/plain": [
       "<Figure size 432x288 with 1 Axes>"
      ]
     },
     "metadata": {
      "needs_background": "light"
     },
     "output_type": "display_data"
    },
    {
     "data": {
      "image/png": "[encoded data removed]",
      "text/plain": [
       "<Figure size 432x288 with 1 Axes>"
      ]
     },
     "metadata": {
      "needs_background": "light"
     },
     "output_type": "display_data"
    },
    {
     "data": {
      "image/png": "[encoded data removed]",
      "text/plain": [
       "<Figure size 432x288 with 1 Axes>"
      ]
     },
     "metadata": {
      "needs_background": "light"
     },
     "output_type": "display_data"
    },
    {
     "data": {
      "image/png": "[encoded data removed]",
      "text/plain": [
       "<Figure size 432x288 with 1 Axes>"
      ]
     },
     "metadata": {
      "needs_background": "light"
     },
     "output_type": "display_data"
    },
    {
     "data": {
      "image/png": "[encoded data removed]",
      "text/plain": [
       "<Figure size 432x288 with 1 Axes>"
      ]
     },
     "metadata": {
      "needs_background": "light"
     },
     "output_type": "display_data"
    }
   ],
   "source": [
    "#for Word2Vec\n",
    "display_closestwords_tsnescatterplot(model, 'orange', 20) "
   ]
  },
  {
   "cell_type": "code",
   "execution_count": 16,
   "metadata": {
    "collapsed": true
   },
   "outputs": [
    {
     "data": {
      "image/png": "[encoded data removed]",
      "text/plain": [
       "<Figure size 432x288 with 1 Axes>"
      ]
     },
     "metadata": {
      "needs_background": "light"
     },
     "output_type": "display_data"
    },
    {
     "data": {
      "image/png": "[encoded data removed]",
      "text/plain": [
       "<Figure size 432x288 with 1 Axes>"
      ]
     },
     "metadata": {
      "needs_background": "light"
     },
     "output_type": "display_data"
    },
    {
     "data": {
      "image/png": "[encoded data removed]",
      "text/plain": [
       "<Figure size 432x288 with 1 Axes>"
      ]
     },
     "metadata": {
      "needs_background": "light"
     },
     "output_type": "display_data"
    },
    {
     "data": {
      "image/png": "[encoded data removed]",
      "text/plain": [
       "<Figure size 432x288 with 1 Axes>"
      ]
     },
     "metadata": {
      "needs_background": "light"
     },
     "output_type": "display_data"
    },
    {
     "data": {
      "image/png": "[encoded data removed]",
      "text/plain": [
       "<Figure size 432x288 with 1 Axes>"
      ]
     },
     "metadata": {
      "needs_background": "light"
     },
     "output_type": "display_data"
    },
    {
     "data": {
      "image/png": "[encoded data removed]",
      "text/plain": [
       "<Figure size 432x288 with 1 Axes>"
      ]
     },
     "metadata": {
      "needs_background": "light"
     },
     "output_type": "display_data"
    },
    {
     "data": {
      "image/png": "[encoded data removed]",
      "text/plain": [
       "<Figure size 432x288 with 1 Axes>"
      ]
     },
     "metadata": {
      "needs_background": "light"
     },
     "output_type": "display_data"
    },
    {
     "data": {
      "image/png": "[encoded data removed]",
      "text/plain": [
       "<Figure size 432x288 with 1 Axes>"
      ]
     },
     "metadata": {
      "needs_background": "light"
     },
     "output_type": "display_data"
    },
    {
     "data": {
      "image/png": "[encoded data removed]",
      "text/plain": [
       "<Figure size 432x288 with 1 Axes>"
      ]
     },
     "metadata": {
      "needs_background": "light"
     },
     "output_type": "display_data"
    },
    {
     "data": {
      "image/png": "[encoded data removed]",
      "text/plain": [
       "<Figure size 432x288 with 1 Axes>"
      ]
     },
     "metadata": {
      "needs_background": "light"
     },
     "output_type": "display_data"
    },
    {
     "data": {
      "image/png": "[encoded data removed]",
      "text/plain": [
       "<Figure size 432x288 with 1 Axes>"
      ]
     },
     "metadata": {
      "needs_background": "light"
     },
     "output_type": "display_data"
    }
   ],
   "source": [
    "#for FastText\n",
    "display_closestwords_tsnescatterplot(model_ft, 'orange', 10)"
   ]
  },
  {
   "cell_type": "code",
   "execution_count": 32,
   "metadata": {
    "colab": {
     "base_uri": "https://localhost:8080/",
     "height": 71
    },
    "colab_type": "code",
    "id": "ess6_541upPl",
    "outputId": "13975836-72f8-49df-bc3c-8d23621522ae"
   },
   "outputs": [],
   "source": [
    "import numpy as np\n",
    " \n",
    "def sent_vectorizer(sent, model):\n",
    "    sent_vec = np.zeros(20)\n",
    "    numw = 0\n",
    "    for w in sent:\n",
    "        try:\n",
    "            sent_vec = np.add(sent_vec, model.wv[w])\n",
    "            numw+=1\n",
    "        except:\n",
    "            pass\n",
    "    return sent_vec / np.sqrt(sent_vec.dot(sent_vec))\n",
    " \n",
    "V=[]\n",
    "for sentence in sentences:\n",
    "    V.append(sent_vectorizer(sentence, model))\n",
    "    "
   ]
  },
  {
   "cell_type": "code",
   "execution_count": 27,
   "metadata": {},
   "outputs": [],
   "source": [
    "Ft = []\n",
    "for sentence in sentences:\n",
    "    Ft.append(sent_vectorizer(sentence, model_ft))"
   ]
  },
  {
   "cell_type": "code",
   "execution_count": 28,
   "metadata": {},
   "outputs": [
    {
     "data": {
      "text/plain": [
       "array([-0.5429004 ,  0.23807214, -0.6002917 ,  0.13657718,  0.24628471,\n",
       "       -0.26469531,  0.09887034, -0.1299462 ,  0.24441731,  0.22903363])"
      ]
     },
     "execution_count": 28,
     "metadata": {},
     "output_type": "execute_result"
    }
   ],
   "source": [
    "Ft[0]\n"
   ]
  },
  {
   "cell_type": "code",
   "execution_count": 33,
   "metadata": {
    "colab": {
     "base_uri": "https://localhost:8080/",
     "height": 85
    },
    "colab_type": "code",
    "id": "XNd0oygku_oh",
    "outputId": "a7623d3e-8f3a-43ce-c9fc-2979ff4a42fd"
   },
   "outputs": [
    {
     "data": {
      "text/plain": [
       "array([ 0.38153184, -0.16906935,  0.21848156, -0.01892456, -0.09373895,\n",
       "       -0.100762  , -0.09381772, -0.45327044,  0.13768343,  0.10113623,\n",
       "        0.55576493,  0.12372401, -0.12763522, -0.11316872,  0.23412802,\n",
       "       -0.08205798,  0.10553521, -0.06626484, -0.27165569,  0.10592648])"
      ]
     },
     "execution_count": 33,
     "metadata": {},
     "output_type": "execute_result"
    }
   ],
   "source": [
    "V[0]"
   ]
  },
  {
   "cell_type": "code",
   "execution_count": 34,
   "metadata": {
    "colab": {
     "base_uri": "https://localhost:8080/",
     "height": 162
    },
    "colab_type": "code",
    "id": "0SMulXYcvICf",
    "outputId": "759d8ebf-c7b1-4419-8cd6-da8b1acf4f90"
   },
   "outputs": [
    {
     "data": {
      "text/plain": [
       "[array([ 0.38153184, -0.16906935,  0.21848156, -0.01892456, -0.09373895,\n",
       "        -0.100762  , -0.09381772, -0.45327044,  0.13768343,  0.10113623,\n",
       "         0.55576493,  0.12372401, -0.12763522, -0.11316872,  0.23412802,\n",
       "        -0.08205798,  0.10553521, -0.06626484, -0.27165569,  0.10592648]),\n",
       " array([-0.01421226, -0.46001979, -0.08012424, -0.02215565, -0.24430628,\n",
       "        -0.41370179, -0.22893145, -0.20337329, -0.17934039, -0.18221517,\n",
       "         0.37485373,  0.28223139, -0.14003192, -0.00730945,  0.10405657,\n",
       "        -0.18133353,  0.12959751,  0.2201235 , -0.18707069, -0.08666885]),\n",
       " array([ 0.22497141,  0.57857354, -0.06172486, -0.23713109, -0.34611361,\n",
       "         0.1883227 , -0.04320449,  0.30690305,  0.12362002,  0.24875635,\n",
       "         0.23430066, -0.08419029,  0.16455988, -0.11583151,  0.10268649,\n",
       "        -0.17452302, -0.07399689, -0.17123846, -0.20648546, -0.07212971]),\n",
       " array([ 0.40370588, -0.28525589,  0.2168611 , -0.0119589 ,  0.0583441 ,\n",
       "        -0.33957244, -0.11363125, -0.04564308, -0.17613139, -0.13560429,\n",
       "         0.45933463,  0.31870707,  0.02545745,  0.13150028,  0.06346634,\n",
       "        -0.1863326 , -0.16393262,  0.28462686, -0.01360621, -0.2191736 ]),\n",
       " array([ 0.25400227, -0.06569157,  0.19853977,  0.20900655, -0.00037331,\n",
       "         0.20994295,  0.20309234,  0.43624683, -0.01953606,  0.1691581 ,\n",
       "        -0.20487568,  0.44214366,  0.24915573,  0.15431571,  0.26569533,\n",
       "        -0.09112442, -0.1634437 ,  0.2035287 , -0.19300138,  0.18919206]),\n",
       " array([-0.04801884,  0.36769083,  0.01910804,  0.15664785,  0.06885441,\n",
       "        -0.25283085,  0.05220723, -0.00438167, -0.15618441, -0.09065611,\n",
       "         0.1384789 ,  0.49411884, -0.3172452 ,  0.33208136,  0.20287332,\n",
       "        -0.03866324, -0.05068052,  0.43643824,  0.15069166,  0.03021731]),\n",
       " array([ 0.39925283, -0.15746875, -0.0001504 ,  0.01150852, -0.2117451 ,\n",
       "        -0.1478833 , -0.11540435, -0.33721008,  0.07334814, -0.0228412 ,\n",
       "         0.46294364,  0.09275756, -0.02830718, -0.22276086,  0.1829541 ,\n",
       "        -0.1800645 ,  0.29143383,  0.18784857, -0.37580313,  0.12386978]),\n",
       " array([-0.15376808,  0.21812456,  0.10406067,  0.20977717, -0.12280608,\n",
       "        -0.25630892,  0.11983118,  0.02910009, -0.15899159, -0.19509852,\n",
       "         0.08957035,  0.34926893, -0.39087906,  0.28106599,  0.35250609,\n",
       "        -0.02274589, -0.11811387,  0.43057893, -0.05673261,  0.15961365]),\n",
       " array([ 0.26387747,  0.109752  ,  0.26054586,  0.39432227,  0.09757253,\n",
       "         0.12291347,  0.05843731,  0.30309233, -0.18678958,  0.16470241,\n",
       "         0.01547328,  0.20958934,  0.26891515,  0.00873984,  0.28480077,\n",
       "         0.07019292, -0.23345651,  0.41194966, -0.29356139, -0.00660342])]"
      ]
     },
     "execution_count": 34,
     "metadata": {},
     "output_type": "execute_result"
    }
   ],
   "source": [
    "V"
   ]
  },
  {
   "cell_type": "code",
   "execution_count": 31,
   "metadata": {},
   "outputs": [
    {
     "data": {
      "text/plain": [
       "[array([-0.5429004 ,  0.23807214, -0.6002917 ,  0.13657718,  0.24628471,\n",
       "        -0.26469531,  0.09887034, -0.1299462 ,  0.24441731,  0.22903363]),\n",
       " array([-0.28635985,  0.10076938, -0.76030493,  0.1848497 ,  0.21813349,\n",
       "        -0.25124232,  0.17123794, -0.31415261, -0.00860599,  0.23836376]),\n",
       " array([-0.37434079, -0.07224928,  0.3425173 , -0.47863582, -0.34981759,\n",
       "         0.06126298, -0.31822425, -0.49979776,  0.13229013,  0.11639594]),\n",
       " array([-0.22112043,  0.3762987 , -0.4923672 ,  0.57592395,  0.04600418,\n",
       "         0.17394183, -0.14864405,  0.41548679,  0.01270893,  0.09018431]),\n",
       " array([-0.28338127,  0.14887039, -0.60565637,  0.53110072, -0.37220022,\n",
       "        -0.21600472,  0.15935703, -0.18624948,  0.00022643, -0.05805525]),\n",
       " array([-0.36895303, -0.53592721, -0.25437834,  0.22075489, -0.12338124,\n",
       "         0.21330898, -0.01812752,  0.44354221, -0.06550538, -0.44848826]),\n",
       " array([-0.37788853,  0.11215596, -0.67873891,  0.0794985 ,  0.2221971 ,\n",
       "        -0.25543924,  0.07328874, -0.39131909,  0.09552828,  0.30881468]),\n",
       " array([-0.23637597, -0.40324272, -0.29184155,  0.32200113, -0.1215177 ,\n",
       "         0.24296051, -0.00100015,  0.48865308,  0.1690437 , -0.50150825]),\n",
       " array([-0.21362465,  0.13607506, -0.07530198, -0.22390613, -0.66737576,\n",
       "        -0.17913099, -0.53681738,  0.23640021, -0.23477711,  0.05819951])]"
      ]
     },
     "execution_count": 31,
     "metadata": {},
     "output_type": "execute_result"
    }
   ],
   "source": [
    "Ft"
   ]
  },
  {
   "cell_type": "code",
   "execution_count": null,
   "metadata": {},
   "outputs": [],
   "source": []
  }
 ],
 "metadata": {
  "colab": {
   "collapsed_sections": [],
   "name": "Word2vec.ipynb",
   "provenance": []
  },
  "kernelspec": {
   "display_name": "Python 3",
   "language": "python",
   "name": "python3"
  },
  "language_info": {
   "codemirror_mode": {
    "name": "ipython",
    "version": 3
   },
   "file_extension": ".py",
   "mimetype": "text/x-python",
   "name": "python",
   "nbconvert_exporter": "python",
   "pygments_lexer": "ipython3",
   "version": "3.8.5"
  }
 },
 "nbformat": 4,
 "nbformat_minor": 1
}
